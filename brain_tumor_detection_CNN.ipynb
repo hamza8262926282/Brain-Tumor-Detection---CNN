{
 "cells": [
  {
   "cell_type": "markdown",
   "id": "c17f0950",
   "metadata": {},
   "source": [
    "# -------------------------------------------------\n",
    "# Brain Tumor Detection using CNN\n",
    "# Cleaned and Enhanced Version (Production Ready)\n",
    "# --------------------------------------------------\n",
    "\n",
    "# **==== Step 1: Import Libraries ====**"
   ]
  },
  {
   "cell_type": "code",
   "execution_count": null,
   "id": "d8c6d0ed",
   "metadata": {},
   "outputs": [],
   "source": [
    "import os\n",
    "import numpy as np\n",
    "import cv2\n",
    "from PIL import Image\n",
    "import matplotlib.pyplot as plt\n",
    "from sklearn.model_selection import train_test_split\n",
    "from keras.utils import normalize, to_categorical\n",
    "from keras.models import Sequential\n",
    "from keras.layers import Conv2D, MaxPooling2D, Flatten, Dense, Dropout, Activation\n",
    "from sklearn.metrics import classification_report, confusion_matrix\n",
    "import seaborn as sns"
   ]
  },
  {
   "cell_type": "markdown",
   "id": "6275a59e",
   "metadata": {},
   "source": [
    "## **Set the image directory path (Change to your dataset path)**"
   ]
  },
  {
   "cell_type": "code",
   "execution_count": null,
   "id": "cf7262dd",
   "metadata": {},
   "outputs": [],
   "source": [
    "image_directory = 'E:/Projects/Brain tumor project/archive (1)'"
   ]
  },
  {
   "cell_type": "markdown",
   "id": "2eb1b69a",
   "metadata": {},
   "source": [
    "## **Image folders**"
   ]
  },
  {
   "cell_type": "code",
   "execution_count": null,
   "id": "5a722109",
   "metadata": {},
   "outputs": [],
   "source": [
    "no_tumor_path = os.path.join(image_directory, 'no')\n",
    "yes_tumor_path = os.path.join(image_directory, 'yes')"
   ]
  },
  {
   "cell_type": "markdown",
   "id": "80bf454e",
   "metadata": {},
   "source": [
    "## **Image size**"
   ]
  },
  {
   "cell_type": "code",
   "execution_count": null,
   "id": "43d27bd7",
   "metadata": {},
   "outputs": [],
   "source": [
    "Input_size = 64"
   ]
  },
  {
   "cell_type": "markdown",
   "id": "7a424953",
   "metadata": {},
   "source": [
    "## **Data and labels**"
   ]
  },
  {
   "cell_type": "code",
   "execution_count": null,
   "id": "9d4be1b4",
   "metadata": {},
   "outputs": [],
   "source": [
    "dataset = []\n",
    "label = []"
   ]
  },
  {
   "cell_type": "markdown",
   "id": "220141c5",
   "metadata": {},
   "source": [
    "## **Function to load and preprocess images**"
   ]
  },
  {
   "cell_type": "code",
   "execution_count": null,
   "id": "30ab45e0",
   "metadata": {},
   "outputs": [],
   "source": [
    "def load_images_from_folder(folder, label_value):\n",
    "    for image_name in os.listdir(folder):\n",
    "        if image_name.endswith('.jpg'):\n",
    "            try:\n",
    "                image_path = os.path.join(folder, image_name)\n",
    "                image = cv2.imread(image_path)\n",
    "                image = Image.fromarray(image, 'RGB')\n",
    "                image = image.resize((Input_size, Input_size))\n",
    "                dataset.append(np.array(image))\n",
    "                label.append(label_value)\n",
    "            except Exception as e:\n",
    "                print(f\"Failed to load image {image_name}: {e}\")"
   ]
  },
  {
   "cell_type": "markdown",
   "id": "29c31e9b",
   "metadata": {},
   "source": [
    "## **Load images with respective labels (0 = no tumor, 1 = tumor)**"
   ]
  },
  {
   "cell_type": "code",
   "execution_count": null,
   "id": "94cb3285",
   "metadata": {},
   "outputs": [],
   "source": [
    "load_images_from_folder(no_tumor_path, 0)\n",
    "load_images_from_folder(yes_tumor_path, 1)"
   ]
  },
  {
   "cell_type": "markdown",
   "id": "3ff6802a",
   "metadata": {},
   "source": [
    "## **Convert to numpy arrays**"
   ]
  },
  {
   "cell_type": "code",
   "execution_count": null,
   "id": "84aaa5cc",
   "metadata": {},
   "outputs": [],
   "source": [
    "dataset = np.array(dataset)\n",
    "label = np.array(label)"
   ]
  },
  {
   "cell_type": "markdown",
   "id": "f5311b26",
   "metadata": {},
   "source": [
    "## **Sanity check**"
   ]
  },
  {
   "cell_type": "code",
   "execution_count": null,
   "id": "5975563d",
   "metadata": {},
   "outputs": [],
   "source": [
    "assert len(dataset) == len(label)"
   ]
  },
  {
   "cell_type": "markdown",
   "id": "00a4ec69",
   "metadata": {},
   "source": [
    "## **Split the data with stratified sampling**"
   ]
  },
  {
   "cell_type": "code",
   "execution_count": null,
   "id": "43931320",
   "metadata": {},
   "outputs": [],
   "source": [
    "X_train, X_test, y_train, y_test = train_test_split(\n",
    "    dataset, label, test_size=0.4, random_state=42, stratify=label)"
   ]
  },
  {
   "cell_type": "markdown",
   "id": "8a08f5e0",
   "metadata": {},
   "source": [
    "## **Normalize image data**"
   ]
  },
  {
   "cell_type": "code",
   "execution_count": null,
   "id": "96751d2a",
   "metadata": {},
   "outputs": [],
   "source": [
    "X_train = normalize(X_train, axis=1)\n",
    "X_test = normalize(X_test, axis=1)"
   ]
  },
  {
   "cell_type": "markdown",
   "id": "5361d44e",
   "metadata": {},
   "source": [
    "## **One-hot encode labels**"
   ]
  },
  {
   "cell_type": "code",
   "execution_count": null,
   "id": "4877305d",
   "metadata": {},
   "outputs": [],
   "source": [
    "y_train = to_categorical(y_train, num_classes=2)\n",
    "y_test = to_categorical(y_test, num_classes=2)"
   ]
  },
  {
   "cell_type": "markdown",
   "id": "2e088bde",
   "metadata": {},
   "source": [
    "## **Build Sequential CNN model**"
   ]
  },
  {
   "cell_type": "code",
   "execution_count": null,
   "id": "c01048ce",
   "metadata": {},
   "outputs": [],
   "source": [
    "model = Sequential()"
   ]
  },
  {
   "cell_type": "markdown",
   "id": "8149cfd7",
   "metadata": {},
   "source": [
    "## **Convolutional Layer 1**"
   ]
  },
  {
   "cell_type": "code",
   "execution_count": null,
   "id": "2c8d5ce6",
   "metadata": {},
   "outputs": [
    {
     "name": "stderr",
     "output_type": "stream",
     "text": [
      "c:\\Users\\lenovo\\AppData\\Local\\Programs\\Python\\Python310\\lib\\site-packages\\keras\\src\\layers\\convolutional\\base_conv.py:107: UserWarning: Do not pass an `input_shape`/`input_dim` argument to a layer. When using Sequential models, prefer using an `Input(shape)` object as the first layer in the model instead.\n",
      "  super().__init__(activity_regularizer=activity_regularizer, **kwargs)\n"
     ]
    }
   ],
   "source": [
    "model.add(Conv2D(32, (3, 3), input_shape=(Input_size, Input_size, 3), activation='relu'))\n",
    "model.add(MaxPooling2D(pool_size=(2, 2)))"
   ]
  },
  {
   "cell_type": "markdown",
   "id": "cec02ccb",
   "metadata": {},
   "source": [
    "## **Layer 2**"
   ]
  },
  {
   "cell_type": "code",
   "execution_count": null,
   "id": "5f1ac77d",
   "metadata": {},
   "outputs": [],
   "source": [
    "\n",
    "model.add(Conv2D(64, (3, 3), activation='relu'))\n",
    "model.add(MaxPooling2D(pool_size=(2, 2)))"
   ]
  },
  {
   "cell_type": "markdown",
   "id": "09994e39",
   "metadata": {},
   "source": [
    "## **Layer 3**"
   ]
  },
  {
   "cell_type": "code",
   "execution_count": null,
   "id": "d3cbe749",
   "metadata": {},
   "outputs": [],
   "source": [
    "model.add(Conv2D(64, (3, 3), activation='relu'))\n",
    "model.add(MaxPooling2D(pool_size=(2, 2)))"
   ]
  },
  {
   "cell_type": "markdown",
   "id": "8b767475",
   "metadata": {},
   "source": [
    "## **Fully connected layers**"
   ]
  },
  {
   "cell_type": "code",
   "execution_count": null,
   "id": "f1ea5629",
   "metadata": {},
   "outputs": [],
   "source": [
    "model.add(Flatten())\n",
    "model.add(Dense(128, activation='relu'))\n",
    "model.add(Dropout(0.5))\n",
    "model.add(Dense(2, activation='softmax'))"
   ]
  },
  {
   "cell_type": "markdown",
   "id": "75a8290c",
   "metadata": {},
   "source": [
    "## **Compile the model**"
   ]
  },
  {
   "cell_type": "code",
   "execution_count": null,
   "id": "0d952819",
   "metadata": {},
   "outputs": [],
   "source": [
    "model.compile(optimizer='adam', loss='categorical_crossentropy', metrics=['accuracy'])"
   ]
  },
  {
   "cell_type": "markdown",
   "id": "4d52e84e",
   "metadata": {},
   "source": [
    "## **Train the model**"
   ]
  },
  {
   "cell_type": "code",
   "execution_count": null,
   "id": "a4056573",
   "metadata": {},
   "outputs": [
    {
     "name": "stdout",
     "output_type": "stream",
     "text": [
      "Epoch 1/18\n",
      "\u001b[1m113/113\u001b[0m \u001b[32m━━━━━━━━━━━━━━━━━━━━\u001b[0m\u001b[37m\u001b[0m \u001b[1m10s\u001b[0m 55ms/step - accuracy: 0.6397 - loss: 0.6323 - val_accuracy: 0.7867 - val_loss: 0.4707\n",
      "Epoch 2/18\n",
      "\u001b[1m113/113\u001b[0m \u001b[32m━━━━━━━━━━━━━━━━━━━━\u001b[0m\u001b[37m\u001b[0m \u001b[1m11s\u001b[0m 62ms/step - accuracy: 0.7974 - loss: 0.4498 - val_accuracy: 0.8358 - val_loss: 0.3649\n",
      "Epoch 3/18\n",
      "\u001b[1m113/113\u001b[0m \u001b[32m━━━━━━━━━━━━━━━━━━━━\u001b[0m\u001b[37m\u001b[0m \u001b[1m9s\u001b[0m 53ms/step - accuracy: 0.8583 - loss: 0.3465 - val_accuracy: 0.8667 - val_loss: 0.3068\n",
      "Epoch 4/18\n",
      "\u001b[1m113/113\u001b[0m \u001b[32m━━━━━━━━━━━━━━━━━━━━\u001b[0m\u001b[37m\u001b[0m \u001b[1m6s\u001b[0m 49ms/step - accuracy: 0.8953 - loss: 0.2733 - val_accuracy: 0.8758 - val_loss: 0.3121\n",
      "Epoch 5/18\n",
      "\u001b[1m113/113\u001b[0m \u001b[32m━━━━━━━━━━━━━━━━━━━━\u001b[0m\u001b[37m\u001b[0m \u001b[1m6s\u001b[0m 51ms/step - accuracy: 0.9226 - loss: 0.2097 - val_accuracy: 0.9325 - val_loss: 0.1790\n",
      "Epoch 6/18\n",
      "\u001b[1m113/113\u001b[0m \u001b[32m━━━━━━━━━━━━━━━━━━━━\u001b[0m\u001b[37m\u001b[0m \u001b[1m11s\u001b[0m 57ms/step - accuracy: 0.9532 - loss: 0.1377 - val_accuracy: 0.9417 - val_loss: 0.1588\n",
      "Epoch 7/18\n",
      "\u001b[1m113/113\u001b[0m \u001b[32m━━━━━━━━━━━━━━━━━━━━\u001b[0m\u001b[37m\u001b[0m \u001b[1m6s\u001b[0m 54ms/step - accuracy: 0.9683 - loss: 0.0839 - val_accuracy: 0.9367 - val_loss: 0.1684\n",
      "Epoch 8/18\n",
      "\u001b[1m113/113\u001b[0m \u001b[32m━━━━━━━━━━━━━━━━━━━━\u001b[0m\u001b[37m\u001b[0m \u001b[1m6s\u001b[0m 52ms/step - accuracy: 0.9852 - loss: 0.0548 - val_accuracy: 0.9558 - val_loss: 0.1301\n",
      "Epoch 9/18\n",
      "\u001b[1m113/113\u001b[0m \u001b[32m━━━━━━━━━━━━━━━━━━━━\u001b[0m\u001b[37m\u001b[0m \u001b[1m6s\u001b[0m 50ms/step - accuracy: 0.9863 - loss: 0.0423 - val_accuracy: 0.9558 - val_loss: 0.1609\n",
      "Epoch 10/18\n",
      "\u001b[1m113/113\u001b[0m \u001b[32m━━━━━━━━━━━━━━━━━━━━\u001b[0m\u001b[37m\u001b[0m \u001b[1m6s\u001b[0m 50ms/step - accuracy: 0.9934 - loss: 0.0198 - val_accuracy: 0.9608 - val_loss: 0.1454\n",
      "Epoch 11/18\n",
      "\u001b[1m113/113\u001b[0m \u001b[32m━━━━━━━━━━━━━━━━━━━━\u001b[0m\u001b[37m\u001b[0m \u001b[1m6s\u001b[0m 52ms/step - accuracy: 0.9987 - loss: 0.0053 - val_accuracy: 0.9483 - val_loss: 0.2007\n",
      "Epoch 12/18\n",
      "\u001b[1m113/113\u001b[0m \u001b[32m━━━━━━━━━━━━━━━━━━━━\u001b[0m\u001b[37m\u001b[0m \u001b[1m6s\u001b[0m 51ms/step - accuracy: 0.9967 - loss: 0.0109 - val_accuracy: 0.9625 - val_loss: 0.1214\n",
      "Epoch 13/18\n",
      "\u001b[1m113/113\u001b[0m \u001b[32m━━━━━━━━━━━━━━━━━━━━\u001b[0m\u001b[37m\u001b[0m \u001b[1m6s\u001b[0m 53ms/step - accuracy: 1.0000 - loss: 0.0048 - val_accuracy: 0.9658 - val_loss: 0.1345\n",
      "Epoch 14/18\n",
      "\u001b[1m113/113\u001b[0m \u001b[32m━━━━━━━━━━━━━━━━━━━━\u001b[0m\u001b[37m\u001b[0m \u001b[1m6s\u001b[0m 50ms/step - accuracy: 0.9997 - loss: 0.0015 - val_accuracy: 0.9625 - val_loss: 0.1398\n",
      "Epoch 15/18\n",
      "\u001b[1m113/113\u001b[0m \u001b[32m━━━━━━━━━━━━━━━━━━━━\u001b[0m\u001b[37m\u001b[0m \u001b[1m6s\u001b[0m 53ms/step - accuracy: 0.9959 - loss: 0.0145 - val_accuracy: 0.9558 - val_loss: 0.1800\n",
      "Epoch 16/18\n",
      "\u001b[1m113/113\u001b[0m \u001b[32m━━━━━━━━━━━━━━━━━━━━\u001b[0m\u001b[37m\u001b[0m \u001b[1m6s\u001b[0m 52ms/step - accuracy: 0.9939 - loss: 0.0161 - val_accuracy: 0.9583 - val_loss: 0.1691\n",
      "Epoch 17/18\n",
      "\u001b[1m113/113\u001b[0m \u001b[32m━━━━━━━━━━━━━━━━━━━━\u001b[0m\u001b[37m\u001b[0m \u001b[1m6s\u001b[0m 51ms/step - accuracy: 0.9851 - loss: 0.0346 - val_accuracy: 0.9633 - val_loss: 0.1786\n",
      "Epoch 18/18\n",
      "\u001b[1m113/113\u001b[0m \u001b[32m━━━━━━━━━━━━━━━━━━━━\u001b[0m\u001b[37m\u001b[0m \u001b[1m6s\u001b[0m 53ms/step - accuracy: 0.9955 - loss: 0.0151 - val_accuracy: 0.9650 - val_loss: 0.1725\n"
     ]
    },
    {
     "data": {
      "text/plain": [
       "<keras.src.callbacks.history.History at 0x234441276a0>"
      ]
     },
     "execution_count": 47,
     "metadata": {},
     "output_type": "execute_result"
    }
   ],
   "source": [
    "model.fit(X_train, y_train, epochs=18, batch_size=16, verbose=1, validation_data=(X_test, y_test))"
   ]
  },
  {
   "cell_type": "markdown",
   "id": "7661ea52",
   "metadata": {},
   "source": [
    "## **Save the trained model**"
   ]
  },
  {
   "cell_type": "code",
   "execution_count": null,
   "id": "08c3b353",
   "metadata": {},
   "outputs": [
    {
     "name": "stderr",
     "output_type": "stream",
     "text": [
      "WARNING:absl:You are saving your model as an HDF5 file via `model.save()` or `keras.saving.save_model(model)`. This file format is considered legacy. We recommend using instead the native Keras format, e.g. `model.save('my_model.keras')` or `keras.saving.save_model(model, 'my_model.keras')`. \n"
     ]
    }
   ],
   "source": [
    "model.save('BrainTumor_CNN_Model.h5')"
   ]
  },
  {
   "cell_type": "markdown",
   "id": "14cb47a0",
   "metadata": {},
   "source": [
    "## **Evaluate the model**"
   ]
  },
  {
   "cell_type": "code",
   "execution_count": null,
   "id": "e0623356",
   "metadata": {},
   "outputs": [
    {
     "name": "stdout",
     "output_type": "stream",
     "text": [
      "Test Accuracy: 96.50%\n"
     ]
    }
   ],
   "source": [
    "score = model.evaluate(X_test, y_test, verbose=0)\n",
    "print(f\"Test Accuracy: {score[1]*100:.2f}%\")"
   ]
  },
  {
   "cell_type": "markdown",
   "id": "bc6ab056",
   "metadata": {},
   "source": [
    "## ***Generate predictions***"
   ]
  },
  {
   "cell_type": "code",
   "execution_count": null,
   "id": "f9518e41",
   "metadata": {},
   "outputs": [
    {
     "name": "stdout",
     "output_type": "stream",
     "text": [
      "\u001b[1m38/38\u001b[0m \u001b[32m━━━━━━━━━━━━━━━━━━━━\u001b[0m\u001b[37m\u001b[0m \u001b[1m1s\u001b[0m 30ms/step\n"
     ]
    }
   ],
   "source": [
    "y_pred = model.predict(X_test)\n",
    "y_pred_classes = np.argmax(y_pred, axis=1)\n",
    "y_true = np.argmax(y_test, axis=1)"
   ]
  },
  {
   "cell_type": "markdown",
   "id": "fe53e693",
   "metadata": {},
   "source": [
    "## ***Classification report***"
   ]
  },
  {
   "cell_type": "code",
   "execution_count": null,
   "id": "9f181344",
   "metadata": {},
   "outputs": [
    {
     "name": "stdout",
     "output_type": "stream",
     "text": [
      "\n",
      "Classification Report:\n",
      "              precision    recall  f1-score   support\n",
      "\n",
      "           0       0.98      0.95      0.96       600\n",
      "           1       0.95      0.98      0.97       600\n",
      "\n",
      "    accuracy                           0.96      1200\n",
      "   macro avg       0.97      0.97      0.96      1200\n",
      "weighted avg       0.97      0.96      0.96      1200\n",
      "\n"
     ]
    }
   ],
   "source": [
    "print(\"\\nClassification Report:\")\n",
    "print(classification_report(y_true, y_pred_classes))"
   ]
  },
  {
   "cell_type": "markdown",
   "id": "4d094e85",
   "metadata": {},
   "source": [
    "## ***Confusion matrix***"
   ]
  },
  {
   "cell_type": "code",
   "execution_count": null,
   "id": "9ce6fb0e",
   "metadata": {},
   "outputs": [
    {
     "data": {
      "image/png": "[encoded data removed]",
      "text/plain": [
       "<Figure size 640x480 with 2 Axes>"
      ]
     },
     "metadata": {},
     "output_type": "display_data"
    }
   ],
   "source": [
    "conf_matrix = confusion_matrix(y_true, y_pred_classes)\n",
    "sns.heatmap(conf_matrix, annot=True, fmt='d', cmap='Blues', xticklabels=['No Tumor', 'Tumor'], yticklabels=['No Tumor', 'Tumor'])\n",
    "plt.title('Confusion Matrix')\n",
    "plt.xlabel('Predicted')\n",
    "plt.ylabel('Actual')\n",
    "plt.show()\n"
   ]
  }
 ],
 "metadata": {
  "kernelspec": {
   "display_name": "Python 3",
   "language": "python",
   "name": "python3"
  },
  "language_info": {
   "codemirror_mode": {
    "name": "ipython",
    "version": 3
   },
   "file_extension": ".py",
   "mimetype": "text/x-python",
   "name": "python",
   "nbconvert_exporter": "python",
   "pygments_lexer": "ipython3",
   "version": "3.10.0"
  }
 },
 "nbformat": 4,
 "nbformat_minor": 5
}
