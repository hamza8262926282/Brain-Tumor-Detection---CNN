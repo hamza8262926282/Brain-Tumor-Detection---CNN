{
 "cells": [
  {
   "cell_type": "code",
   "execution_count": null,
   "id": "cdbfb9c9",
   "metadata": {},
   "outputs": [],
   "source": []
  }
 ],
 "metadata": {
  "language_info": {
   "name": "python"
  }
 },
 "nbformat": 4,
 "nbformat_minor": 5
}
